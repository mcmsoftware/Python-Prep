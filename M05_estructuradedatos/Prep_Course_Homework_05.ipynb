{
 "cells": [
  {
   "attachments": {},
   "cell_type": "markdown",
   "metadata": {},
   "source": [
    "## Estructuras de Datos"
   ]
  },
  {
   "attachments": {},
   "cell_type": "markdown",
   "metadata": {},
   "source": [
    "1) Crear una lista que contenga nombres de ciudades del mundo que contenga más de 5 elementos e imprimir por pantalla"
   ]
  },
  {
   "cell_type": "code",
   "execution_count": 7,
   "metadata": {},
   "outputs": [
    {
     "name": "stdout",
     "output_type": "stream",
     "text": [
      "['Bogota', 'New York', 'Londres', 'Paris', 'Moscu']\n"
     ]
    }
   ],
   "source": [
    "lis_cuidades = ['Bogota','New York','Londres','Paris','Moscu']\n",
    "print(lis_cuidades)"
   ]
  },
  {
   "attachments": {},
   "cell_type": "markdown",
   "metadata": {},
   "source": [
    "2) Imprimir por pantalla el segundo elemento de la lista"
   ]
  },
  {
   "cell_type": "code",
   "execution_count": 8,
   "metadata": {},
   "outputs": [
    {
     "name": "stdout",
     "output_type": "stream",
     "text": [
      "New York\n"
     ]
    }
   ],
   "source": [
    "print(lis_cuidades[1])"
   ]
  },
  {
   "attachments": {},
   "cell_type": "markdown",
   "metadata": {},
   "source": [
    "3) Imprimir por pantalla del segundo al cuarto elemento"
   ]
  },
  {
   "cell_type": "code",
   "execution_count": 9,
   "metadata": {},
   "outputs": [
    {
     "name": "stdout",
     "output_type": "stream",
     "text": [
      "['New York', 'Londres', 'Paris']\n"
     ]
    }
   ],
   "source": [
    "print(lis_cuidades[1:4])"
   ]
  },
  {
   "attachments": {},
   "cell_type": "markdown",
   "metadata": {},
   "source": [
    "4) Visualizar el tipo de dato de la lista"
   ]
  },
  {
   "cell_type": "code",
   "execution_count": 10,
   "metadata": {},
   "outputs": [
    {
     "data": {
      "text/plain": [
       "list"
      ]
     },
     "execution_count": 10,
     "metadata": {},
     "output_type": "execute_result"
    }
   ],
   "source": [
    "type(lis_cuidades)"
   ]
  },
  {
   "attachments": {},
   "cell_type": "markdown",
   "metadata": {},
   "source": [
    "5) Visualizar todos los elementos de la lista a partir del tercero de manera genérica, es decir, sin explicitar la posición del último elemento"
   ]
  },
  {
   "cell_type": "code",
   "execution_count": 11,
   "metadata": {},
   "outputs": [
    {
     "name": "stdout",
     "output_type": "stream",
     "text": [
      "['Londres', 'Paris', 'Moscu']\n"
     ]
    }
   ],
   "source": [
    "print(lis_cuidades[2:])"
   ]
  },
  {
   "attachments": {},
   "cell_type": "markdown",
   "metadata": {},
   "source": [
    "6) Visualizar los primeros 4 elementos de la lista"
   ]
  },
  {
   "cell_type": "code",
   "execution_count": 12,
   "metadata": {},
   "outputs": [
    {
     "name": "stdout",
     "output_type": "stream",
     "text": [
      "['Bogota', 'New York', 'Londres']\n"
     ]
    }
   ],
   "source": [
    "print(lis_cuidades[:3])"
   ]
  },
  {
   "attachments": {},
   "cell_type": "markdown",
   "metadata": {},
   "source": [
    "7) Agregar una ciudad más a la lista que ya exista y otra que no ¿Arroja algún tipo de error?"
   ]
  },
  {
   "cell_type": "code",
   "execution_count": 13,
   "metadata": {},
   "outputs": [],
   "source": [
    "lis_cuidades.append('Londres')\n"
   ]
  },
  {
   "cell_type": "code",
   "execution_count": 14,
   "metadata": {},
   "outputs": [],
   "source": [
    "lis_cuidades.append('Melbourne')"
   ]
  },
  {
   "cell_type": "code",
   "execution_count": 15,
   "metadata": {},
   "outputs": [
    {
     "name": "stdout",
     "output_type": "stream",
     "text": [
      "['Bogota', 'New York', 'Londres', 'Paris', 'Moscu', 'Londres', 'Melbourne']\n"
     ]
    }
   ],
   "source": [
    "print(lis_cuidades)"
   ]
  },
  {
   "attachments": {},
   "cell_type": "markdown",
   "metadata": {},
   "source": [
    "8) Agregar otra ciudad, pero en la cuarta posición"
   ]
  },
  {
   "cell_type": "code",
   "execution_count": 16,
   "metadata": {},
   "outputs": [
    {
     "name": "stdout",
     "output_type": "stream",
     "text": [
      "['Bogota', 'New York', 'Londres', 'Tokio', 'Paris', 'Moscu', 'Londres', 'Melbourne']\n"
     ]
    }
   ],
   "source": [
    "lis_cuidades.insert(3,'Tokio')\n",
    "print(lis_cuidades)"
   ]
  },
  {
   "attachments": {},
   "cell_type": "markdown",
   "metadata": {},
   "source": [
    "9) Concatenar otra lista a la ya creada"
   ]
  },
  {
   "cell_type": "code",
   "execution_count": 17,
   "metadata": {},
   "outputs": [
    {
     "name": "stdout",
     "output_type": "stream",
     "text": [
      "['Bogota', 'New York', 'Londres', 'Tokio', 'Paris', 'Moscu', 'Londres', 'Melbourne', 'Santiago de Chile', 'Panama', 'Santo Domingo']\n"
     ]
    }
   ],
   "source": [
    "lis_cuidades.extend(['Santiago de Chile','Panama','Santo Domingo'])\n",
    "print(lis_cuidades)"
   ]
  },
  {
   "attachments": {},
   "cell_type": "markdown",
   "metadata": {},
   "source": [
    "10) Encontrar el índice de la ciudad que en el punto 7 agregamos duplicada. ¿Se nota alguna particularidad?"
   ]
  },
  {
   "cell_type": "code",
   "execution_count": 18,
   "metadata": {},
   "outputs": [
    {
     "name": "stdout",
     "output_type": "stream",
     "text": [
      "2\n"
     ]
    }
   ],
   "source": [
    "print(lis_cuidades.index('Londres')) # solo muestra la primera "
   ]
  },
  {
   "attachments": {},
   "cell_type": "markdown",
   "metadata": {},
   "source": [
    "11) ¿Qué pasa si se busca un elemento que no existe?"
   ]
  },
  {
   "cell_type": "code",
   "execution_count": 19,
   "metadata": {},
   "outputs": [
    {
     "ename": "ValueError",
     "evalue": "'Managua' is not in list",
     "output_type": "error",
     "traceback": [
      "\u001b[1;31m---------------------------------------------------------------------------\u001b[0m",
      "\u001b[1;31mValueError\u001b[0m                                Traceback (most recent call last)",
      "Cell \u001b[1;32mIn[19], line 1\u001b[0m\n\u001b[1;32m----> 1\u001b[0m \u001b[39mprint\u001b[39m(lis_cuidades\u001b[39m.\u001b[39;49mindex(\u001b[39m'\u001b[39;49m\u001b[39mManagua\u001b[39;49m\u001b[39m'\u001b[39;49m)) \u001b[39m# arroja error 'Managua' is not in list\u001b[39;00m\n",
      "\u001b[1;31mValueError\u001b[0m: 'Managua' is not in list"
     ]
    }
   ],
   "source": [
    "print(lis_cuidades.index('Managua')) # arroja error 'Managua' is not in list"
   ]
  },
  {
   "attachments": {},
   "cell_type": "markdown",
   "metadata": {},
   "source": [
    "12) Eliminar un elemento de la lista"
   ]
  },
  {
   "attachments": {},
   "cell_type": "markdown",
   "metadata": {},
   "source": []
  },
  {
   "cell_type": "code",
   "execution_count": 20,
   "metadata": {},
   "outputs": [
    {
     "name": "stdout",
     "output_type": "stream",
     "text": [
      "['Bogota', 'New York', 'Tokio', 'Paris', 'Moscu', 'Londres', 'Melbourne', 'Santiago de Chile', 'Panama', 'Santo Domingo']\n"
     ]
    }
   ],
   "source": [
    "lis_cuidades.remove('Londres') # solo elimina la primera posicion\n",
    "print(lis_cuidades)"
   ]
  },
  {
   "attachments": {},
   "cell_type": "markdown",
   "metadata": {},
   "source": [
    "13) ¿Qué pasa si el elemento a eliminar no existe?"
   ]
  },
  {
   "cell_type": "code",
   "execution_count": 21,
   "metadata": {},
   "outputs": [
    {
     "ename": "ValueError",
     "evalue": "list.remove(x): x not in list",
     "output_type": "error",
     "traceback": [
      "\u001b[1;31m---------------------------------------------------------------------------\u001b[0m",
      "\u001b[1;31mValueError\u001b[0m                                Traceback (most recent call last)",
      "Cell \u001b[1;32mIn[21], line 1\u001b[0m\n\u001b[1;32m----> 1\u001b[0m lis_cuidades\u001b[39m.\u001b[39;49mremove(\u001b[39m'\u001b[39;49m\u001b[39mQuito\u001b[39;49m\u001b[39m'\u001b[39;49m) \u001b[39m# arroja error list.remove(x): x not in list\u001b[39;00m\n\u001b[0;32m      2\u001b[0m \u001b[39mprint\u001b[39m(lis_cuidades)\n",
      "\u001b[1;31mValueError\u001b[0m: list.remove(x): x not in list"
     ]
    }
   ],
   "source": [
    "lis_cuidades.remove('Quito') # arroja error list.remove(x): x not in list\n",
    "print(lis_cuidades)"
   ]
  },
  {
   "attachments": {},
   "cell_type": "markdown",
   "metadata": {},
   "source": [
    "14) Extraer el úlimo elemento de la lista, guardarlo en una variable e imprimirlo"
   ]
  },
  {
   "cell_type": "code",
   "execution_count": 22,
   "metadata": {},
   "outputs": [
    {
     "name": "stdout",
     "output_type": "stream",
     "text": [
      "Santo Domingo   Santo Domingo\n"
     ]
    }
   ],
   "source": [
    "x = lis_cuidades[len(lis_cuidades)-1]\n",
    "y = lis_cuidades.pop()\n",
    "print(x, ' ',y)"
   ]
  },
  {
   "attachments": {},
   "cell_type": "markdown",
   "metadata": {},
   "source": [
    "15) Mostrar la lista multiplicada por 4"
   ]
  },
  {
   "cell_type": "code",
   "execution_count": 35,
   "metadata": {},
   "outputs": [
    {
     "name": "stdout",
     "output_type": "stream",
     "text": [
      "['Bogota', 'New York', 'Tokio', 'Paris', 'Moscu', 'Londres', 'Melbourne', 'Santiago de Chile', 'Panama', 'Bogota', 'New York', 'Tokio', 'Paris', 'Moscu', 'Londres', 'Melbourne', 'Santiago de Chile', 'Panama', 'Bogota', 'New York', 'Tokio', 'Paris', 'Moscu', 'Londres', 'Melbourne', 'Santiago de Chile', 'Panama', 'Bogota', 'New York', 'Tokio', 'Paris', 'Moscu', 'Londres', 'Melbourne', 'Santiago de Chile', 'Panama']\n"
     ]
    }
   ],
   "source": [
    "print(lis_cuidades * 4)"
   ]
  },
  {
   "attachments": {},
   "cell_type": "markdown",
   "metadata": {},
   "source": [
    "16) Crear una tupla que contenga los números enteros del 1 al 20"
   ]
  },
  {
   "cell_type": "code",
   "execution_count": 24,
   "metadata": {},
   "outputs": [],
   "source": [
    "tupla_data = [1,2,3,4,5,6,7,8,9,10,11,12,13,14,15,16,17,18,19,20]"
   ]
  },
  {
   "attachments": {},
   "cell_type": "markdown",
   "metadata": {},
   "source": [
    "17) Imprimir desde el índice 10 al 15 de la tupla"
   ]
  },
  {
   "cell_type": "code",
   "execution_count": 25,
   "metadata": {},
   "outputs": [
    {
     "name": "stdout",
     "output_type": "stream",
     "text": [
      "[10, 11, 12, 13, 14, 15]\n"
     ]
    }
   ],
   "source": [
    "print(tupla_data[9:15])"
   ]
  },
  {
   "attachments": {},
   "cell_type": "markdown",
   "metadata": {},
   "source": [
    "18) Evaluar si los números 20 y 30 están dentro de la tupla"
   ]
  },
  {
   "cell_type": "code",
   "execution_count": 26,
   "metadata": {},
   "outputs": [
    {
     "name": "stdout",
     "output_type": "stream",
     "text": [
      "True\n"
     ]
    }
   ],
   "source": [
    "print(20 in tupla_data) # Si esta"
   ]
  },
  {
   "cell_type": "code",
   "execution_count": 27,
   "metadata": {},
   "outputs": [
    {
     "name": "stdout",
     "output_type": "stream",
     "text": [
      "False\n"
     ]
    }
   ],
   "source": [
    "print(30 in tupla_data) # No esta"
   ]
  },
  {
   "attachments": {},
   "cell_type": "markdown",
   "metadata": {},
   "source": [
    "19) Con la lista creada en el punto 1, validar la existencia del elemento 'París' y si no existe, agregarlo. Utilizar una variable e informar lo sucedido."
   ]
  },
  {
   "cell_type": "code",
   "execution_count": 28,
   "metadata": {},
   "outputs": [
    {
     "name": "stdout",
     "output_type": "stream",
     "text": [
      "La Ciudad Paris ya existía\n"
     ]
    }
   ],
   "source": [
    "ciudad = 'Paris'\n",
    "if (ciudad in lis_cuidades):\n",
    "    print('La Ciudad', ciudad, 'ya existía')\n",
    "else:\n",
    "    lis_cuidades.append(ciudad)\n",
    "    print('Se insertó la Ciudad', ciudad)\n",
    "    "
   ]
  },
  {
   "attachments": {},
   "cell_type": "markdown",
   "metadata": {},
   "source": [
    "20) Mostrar la cantidad de veces que se encuentra un elemento específico dentro de la tupla y de la lista"
   ]
  },
  {
   "cell_type": "code",
   "execution_count": 43,
   "metadata": {},
   "outputs": [
    {
     "name": "stdout",
     "output_type": "stream",
     "text": [
      "['Bogota', 'New York', 'Tokio', 'Paris', 'Moscu', 'Londres', 'Melbourne', 'Santiago de Chile', 'Panama', 'Bogota', 'New York', 'Tokio', 'Paris', 'Moscu', 'Londres', 'Melbourne', 'Santiago de Chile', 'Panama', 'Bogota', 'New York', 'Tokio', 'Paris', 'Moscu', 'Londres', 'Melbourne', 'Santiago de Chile', 'Panama', 'Bogota', 'New York', 'Tokio', 'Paris', 'Moscu', 'Londres', 'Melbourne', 'Santiago de Chile', 'Panama']\n",
      "Bogota  4\n",
      "New York  4\n",
      "Tokio  4\n",
      "Paris  4\n",
      "Moscu  4\n",
      "Londres  4\n",
      "Melbourne  4\n",
      "Santiago de Chile  4\n",
      "Panama  4\n",
      "Bogota  4\n",
      "New York  4\n",
      "Tokio  4\n",
      "Paris  4\n",
      "Moscu  4\n",
      "Londres  4\n",
      "Melbourne  4\n",
      "Santiago de Chile  4\n",
      "Panama  4\n",
      "Bogota  4\n",
      "New York  4\n",
      "Tokio  4\n",
      "Paris  4\n",
      "Moscu  4\n",
      "Londres  4\n",
      "Melbourne  4\n",
      "Santiago de Chile  4\n",
      "Panama  4\n",
      "Bogota  4\n",
      "New York  4\n",
      "Tokio  4\n",
      "Paris  4\n",
      "Moscu  4\n",
      "Londres  4\n",
      "Melbourne  4\n",
      "Santiago de Chile  4\n",
      "Panama  4\n"
     ]
    }
   ],
   "source": [
    "print(lis_cuidades)\n",
    "count=0\n",
    "tope_lista=len(lis_cuidades)\n",
    "ciudad=''\n",
    "while (count<=tope_lista-1):\n",
    "    ciudad = lis_cuidades[count]\n",
    "    print(ciudad, '', lis_cuidades.count(ciudad))\n",
    "    count+=1\n",
    "\n"
   ]
  },
  {
   "attachments": {},
   "cell_type": "markdown",
   "metadata": {},
   "source": [
    "21) Convertir la tupla en una lista"
   ]
  },
  {
   "cell_type": "code",
   "execution_count": 44,
   "metadata": {},
   "outputs": [],
   "source": [
    "tup_ciudades=tuple(lis_cuidades)"
   ]
  },
  {
   "attachments": {},
   "cell_type": "markdown",
   "metadata": {},
   "source": [
    "22) Desempaquetar solo los primeros 3 elementos de la tupla en 3 variables"
   ]
  },
  {
   "cell_type": "code",
   "execution_count": 47,
   "metadata": {},
   "outputs": [
    {
     "name": "stdout",
     "output_type": "stream",
     "text": [
      "Bogota\n",
      "New York\n",
      "Tokio\n"
     ]
    }
   ],
   "source": [
    "c1, c2, c3, _, _, _, _, _, _, _, _, _, _, _, _, _, _, _, _, _, _, _, _, _, _, _, _, _, _, _, _, _, _, _, _, _ = tup_ciudades\n",
    "print(c1)\n",
    "print(c2)\n",
    "print(c3)"
   ]
  },
  {
   "attachments": {},
   "cell_type": "markdown",
   "metadata": {},
   "source": [
    "23) Crear un diccionario utilizando la lista crada en el punto 1, asignandole la clave \"ciudad\". Agregar tambien otras claves, como puede ser \"Pais\" y \"Continente\"."
   ]
  },
  {
   "cell_type": "code",
   "execution_count": 48,
   "metadata": {},
   "outputs": [],
   "source": [
    "json_dic = { 'ciudad': lis_cuidades,\n",
    "            'pais':  ['Colombia','Canada','Francia','USA','Rusia'],\n",
    "            'continente' : ['America','Europa','Asia', 'Africa']\n",
    "}"
   ]
  },
  {
   "attachments": {},
   "cell_type": "markdown",
   "metadata": {},
   "source": [
    "24) Imprimir las claves del diccionario"
   ]
  },
  {
   "cell_type": "code",
   "execution_count": 53,
   "metadata": {},
   "outputs": [
    {
     "name": "stdout",
     "output_type": "stream",
     "text": [
      "dict_keys(['ciudad', 'pais', 'continente'])\n"
     ]
    }
   ],
   "source": [
    "print(json_dic.keys())"
   ]
  },
  {
   "attachments": {},
   "cell_type": "markdown",
   "metadata": {},
   "source": [
    "25) Imprimir las ciudades a través de su clave"
   ]
  },
  {
   "cell_type": "code",
   "execution_count": 54,
   "metadata": {},
   "outputs": [
    {
     "name": "stdout",
     "output_type": "stream",
     "text": [
      "['Bogota', 'New York', 'Tokio', 'Paris', 'Moscu', 'Londres', 'Melbourne', 'Santiago de Chile', 'Panama', 'Bogota', 'New York', 'Tokio', 'Paris', 'Moscu', 'Londres', 'Melbourne', 'Santiago de Chile', 'Panama', 'Bogota', 'New York', 'Tokio', 'Paris', 'Moscu', 'Londres', 'Melbourne', 'Santiago de Chile', 'Panama', 'Bogota', 'New York', 'Tokio', 'Paris', 'Moscu', 'Londres', 'Melbourne', 'Santiago de Chile', 'Panama']\n",
      "['Colombia', 'Canada', 'Francia', 'USA', 'Rusia']\n",
      "['America', 'Europa', 'Asia', 'Africa']\n"
     ]
    }
   ],
   "source": [
    "print(json_dic['ciudad'])\n",
    "print(json_dic['pais'])\n",
    "print(json_dic['continente'])"
   ]
  }
 ],
 "metadata": {
  "interpreter": {
   "hash": "c85384e4cb51c8b72350f3a8712cc8351fdc3955e32a27f9b60c6242ab125f01"
  },
  "kernelspec": {
   "display_name": "Python 3 (ipykernel)",
   "language": "python",
   "name": "python3"
  },
  "language_info": {
   "codemirror_mode": {
    "name": "ipython",
    "version": 3
   },
   "file_extension": ".py",
   "mimetype": "text/x-python",
   "name": "python",
   "nbconvert_exporter": "python",
   "pygments_lexer": "ipython3",
   "version": "3.11.4"
  }
 },
 "nbformat": 4,
 "nbformat_minor": 4
}
